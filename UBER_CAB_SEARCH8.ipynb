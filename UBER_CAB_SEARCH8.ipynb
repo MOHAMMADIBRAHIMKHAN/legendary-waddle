{
  "nbformat": 4,
  "nbformat_minor": 0,
  "metadata": {
    "colab": {
      "provenance": [],
      "authorship_tag": "ABX9TyOX8KoZ/ITcyhLJd3jT9YDQ",
      "include_colab_link": true
    },
    "kernelspec": {
      "name": "python3",
      "display_name": "Python 3"
    }
  },
  "cells": [
    {
      "cell_type": "markdown",
      "metadata": {
        "id": "view-in-github",
        "colab_type": "text"
      },
      "source": [
        "<a href=\"https://colab.research.google.com/github/MOHAMMADIBRAHIMKHAN/legendary-waddle/blob/main/UBER_CAB_SEARCH8.ipynb\" target=\"_parent\"><img src=\"https://colab.research.google.com/assets/colab-badge.svg\" alt=\"Open In Colab\"/></a>"
      ]
    },
    {
      "cell_type": "markdown",
      "metadata": {
        "id": "n4Jp-OpQBJZr"
      },
      "source": [
        "## BINARY SEARCH ALGORITHM"
      ]
    },
    {
      "cell_type": "code",
      "metadata": {
        "colab": {
          "base_uri": "https://localhost:8080/"
        },
        "id": "MyiWeXlM2jLS",
        "outputId": "51538bf1-ad1a-4cc6-aa4b-ec28480359f7"
      },
      "source": [
        "class Uber:\n",
        "    def __init__(self):\n",
        "       self.cabs = [ 3 , 8 , 12 , 13 , 17 , 23 , 34 , 47 ]\n",
        "       return\n",
        "    def bsearch(self,x):\n",
        "        beg = 0\n",
        "        end = len(self.cabs)-1\n",
        "        while beg<= end:\n",
        "          mid = (beg + end) // 2\n",
        "          if x == self.cabs[mid]:\n",
        "                return mid\n",
        "          elif x > self.cabs[mid]:\n",
        "              beg = mid + 1\n",
        "          else:\n",
        "               end = mid-1\n",
        "        return -1\n",
        "\n",
        "id = Uber()\n",
        "x = int(input('Enter the cab code you are searching for : '))\n",
        "pos = id.bsearch(x)\n",
        "if pos == -1:\n",
        "    print('No cabs nearby . Try Again')\n",
        "else:\n",
        "  print('Cab is',pos,'KM Away From You.Arriving Soon')"
      ],
      "execution_count": null,
      "outputs": [
        {
          "output_type": "stream",
          "text": [
            "Enter the cab code you are searching for : 8\n",
            "Cab is 1 KM Away From You.Arriving Soon\n"
          ],
          "name": "stdout"
        }
      ]
    },
    {
      "cell_type": "markdown",
      "metadata": {
        "id": "mkZ7RetwA_w5"
      },
      "source": [
        "  ## LINEAR SEARCH ALGORITHM"
      ]
    },
    {
      "cell_type": "code",
      "metadata": {
        "colab": {
          "base_uri": "https://localhost:8080/"
        },
        "id": "BvEfNijw5RPe",
        "outputId": "e64fdc9d-b9d4-466a-9c52-9492eb1b7da1"
      },
      "source": [
        "class Uber:\n",
        "    def __init__(self):\n",
        "       self.cabs = [ 3 , 8 , 12 , 13 , 17 , 23 , 34 , 47 ]\n",
        "       return\n",
        "    def bsearch(self,x):\n",
        "        beg = 0\n",
        "        end = len(self.cabs) -1\n",
        "        while beg <= end:\n",
        "              start = beg\n",
        "              if x == self.cabs[start]:\n",
        "                    return start\n",
        "              elif x > self.cabs[start]:\n",
        "                    beg = start + 1\n",
        "              else:\n",
        "                    end = start-1\n",
        "        return -1\n",
        "\n",
        "id = Uber()\n",
        "x = int(input('Enter the cab code you are searching for : '))\n",
        "pos = id.bsearch(x)\n",
        "if pos == -1:\n",
        "    print('No cabs nearby . Try Again')\n",
        "else:\n",
        "  print('Cab is',pos,'KM Away From You.Arriving Soon')\n",
        ""
      ],
      "execution_count": null,
      "outputs": [
        {
          "output_type": "stream",
          "text": [
            "Enter the cab code you are searching for : 12\n",
            "Cab is 2 KM Away From You.Arriving Soon\n"
          ],
          "name": "stdout"
        }
      ]
    },
    {
      "cell_type": "code",
      "metadata": {
        "id": "MBPoQ9ru-iSb"
      },
      "source": [],
      "execution_count": null,
      "outputs": []
    }
  ]
}